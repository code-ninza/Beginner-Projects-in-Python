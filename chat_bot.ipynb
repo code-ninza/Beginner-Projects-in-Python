{
 "cells": [
  {
   "cell_type": "code",
   "execution_count": null,
   "metadata": {},
   "outputs": [],
   "source": [
    "from selenium import webdriver\n",
    "from selenium.webdriver.common.keys import Keys\n",
    "import time\n",
    "import random\n",
    "from pathlib import Path"
   ]
  },
  {
   "cell_type": "code",
   "execution_count": 81,
   "metadata": {},
   "outputs": [],
   "source": [
    "#chromedriver_path = Path(input(\"Enter the path for the chromedriver installation on your system.\"))\n",
    "\n",
    "bot_name = input(\"\\nEnter the Bot name :- \")\n",
    "\n",
    "website = \"http://www.kalamngychat.com/chat-rooms/romance-chat/\""
   ]
  },
  {
   "cell_type": "code",
   "execution_count": 82,
   "metadata": {},
   "outputs": [],
   "source": [
    "browser = webdriver.Chrome(executable_path=r\"C:\\webdrivers\\chromedriver.exe\")\n",
    "browser.get(website)"
   ]
  },
  {
   "cell_type": "code",
   "execution_count": 83,
   "metadata": {},
   "outputs": [],
   "source": [
    "time.sleep(0.02)\n",
    "name_field = browser.find_element_by_id(\"Nickname\")\n",
    "name_field.send_keys(Keys.CONTROL+\"a\")\n",
    "name_field.send_keys(Keys.DELETE)\n",
    "name_field.send_keys(bot_name)\n",
    "login_button = browser.find_element_by_xpath(\"//input[@type='submit']\")\n",
    "login_button.click()"
   ]
  },
  {
   "cell_type": "code",
   "execution_count": 84,
   "metadata": {},
   "outputs": [],
   "source": [
    "all_users = browser.find_elements_by_class_name('main-nickj')\n",
    "users = []\n",
    "for user in all_users:\n",
    "    users.append(user.text)\n",
    "    print(user.text)"
   ]
  },
  {
   "cell_type": "code",
   "execution_count": null,
   "metadata": {},
   "outputs": [],
   "source": []
  }
 ],
 "metadata": {
  "language_info": {
   "codemirror_mode": {
    "name": "ipython",
    "version": 3
   },
   "file_extension": ".py",
   "mimetype": "text/x-python",
   "name": "python",
   "nbconvert_exporter": "python",
   "pygments_lexer": "ipython3",
   "version": "3.7.5-final"
  },
  "orig_nbformat": 2,
  "kernelspec": {
   "name": "python37564bit2a0cbf1ccc154000a1cc088069468f72",
   "display_name": "Python 3.7.5 64-bit"
  }
 },
 "nbformat": 4,
 "nbformat_minor": 2
}