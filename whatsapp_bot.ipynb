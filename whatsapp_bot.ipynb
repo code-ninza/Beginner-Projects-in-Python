{
 "cells": [
  {
   "cell_type": "code",
   "execution_count": null,
   "metadata": {},
   "outputs": [],
   "source": [
    "from selenium import webdriver\n",
    "from selenium.webdriver.common.keys import Keys\n",
    "import time\n",
    "import random\n",
    "browser = webdriver.Chrome(executable_path=r\"C:\\webdrivers\\chromedriver.exe\")\n",
    "browser.get(\"https://web.whatsapp.com\")\n",
    ""
   ]
  },
  {
   "cell_type": "code",
   "execution_count": null,
   "metadata": {},
   "outputs": [],
   "source": [
    "messages = [\"this\", \"that\", \"There\", \"what\"]\n",
    "freq = 2000\n",
    "\n",
    "browser.find_element_by_xpath(\"//span[@title='Aarav']\").click()"
   ]
  },
  {
   "cell_type": "code",
   "execution_count": null,
   "metadata": {},
   "outputs": [],
   "source": [
    "#message_box = browser.find_element_by_xpath(\"//div[@class='_3FeAD _1PRhq']\").click()\n",
    "#time.sleep(0.05)\n",
    "focussed_mb = browser.find_element_by_xpath(\"//div[@class='_3FeAD _1PRhq focused']\")\n",
    "for i in range(freq):\n",
    "    focussed_mb.send_keys(random.choice(messages))\n",
    "    browser.find_element_by_xpath(\"//button[@class='_3M-N-']\").click()\n",
    "    time.sleep(0.001)\n",
    "    print(i)"
   ]
  },
  {
   "cell_type": "code",
   "execution_count": null,
   "metadata": {},
   "outputs": [],
   "source": []
  }
 ],
 "metadata": {
  "kernelspec": {
   "display_name": "Python 3",
   "language": "python",
   "name": "python3"
  },
  "language_info": {
   "codemirror_mode": {
    "name": "ipython",
    "version": 3
   },
   "file_extension": ".py",
   "mimetype": "text/x-python",
   "name": "python",
   "nbconvert_exporter": "python",
   "pygments_lexer": "ipython3",
   "version": "3.7.5-final"
  }
 },
 "nbformat": 4,
 "nbformat_minor": 2
}